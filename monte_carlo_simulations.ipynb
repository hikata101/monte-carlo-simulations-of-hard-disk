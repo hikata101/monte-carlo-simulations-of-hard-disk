{
 "cells": [
  {
   "cell_type": "code",
   "execution_count": 2,
   "id": "2ea64875",
   "metadata": {},
   "outputs": [],
   "source": [
    "import matplotlib.pyplot as plt\n",
    "import numpy as np\n",
    "import seaborn as sns\n",
    "from scipy.optimize import curve_fit\n",
    "import pandas as pd\n",
    "import math\n",
    "import random"
   ]
  },
  {
   "cell_type": "code",
   "execution_count": 8,
   "id": "385079b7",
   "metadata": {},
   "outputs": [],
   "source": [
    "# kb = 1.380649 * 10**-23\n",
    "kb = 1\n",
    "t = 300\n",
    "beta = 1/(kb * t)\n",
    "n = 1 #number of particles\n",
    "\n",
    "class Particle:\n",
    "    initial_x = 0\n",
    "    initial_y = 0\n",
    "    x = 0\n",
    "    y = 0\n",
    "    sigma = 0\n",
    "    \n",
    "    def __init__(self, x, y):\n",
    "        self.initial_x = x\n",
    "        self.initial_y = y\n",
    "        self.x = x\n",
    "        self.y = y\n",
    "        \n",
    "    def show(self):\n",
    "        print(self.initial_x, self.initial_y)\n",
    "        print(self.x, self.y)\n",
    "        \n",
    "    def update(self, x, y):\n",
    "        self.x = x\n",
    "        self.y = y\n",
    "    \n",
    "    def mean_square(self):\n",
    "        return (self.x - self.initial_x)**2 + (self.y - self.initial_y)**2\n",
    "\n",
    "class Mu:\n",
    "    particles = []\n",
    "    sigma = 1\n",
    "    \n",
    "    def __init__(self, particles, sigma):\n",
    "        self.particles = particles\n",
    "        self.sigma = sigma\n",
    "        \n",
    "    def msd(self):\n",
    "        msd = 0\n",
    "        for particle in self.particles:\n",
    "            msd += particle.mean_square()\n",
    "        return msd/len(particles)\n",
    "    \n",
    "    def evolve(self):\n",
    "        index = random.randint(0, len(self.particles) - 1)\n",
    "        print(index)\n",
    "        particle = self.particles.pop(index)\n",
    "        particle = trial(particle, self.sigma, self.particles)\n",
    "        self.particles.insert(index, particle)\n",
    "        \n",
    "\n",
    "def phi(sigma, n, l):\n",
    "    return math.pi * sigma**2 * n / 4 / l**2\n",
    "\n",
    "def u(sigma, x1, y1, x2, y2):\n",
    "    r = math.sqrt((x2-x1)**2+(y2-y1)**2)\n",
    "    if r >= sigma:\n",
    "        return 0\n",
    "    return math.inf\n",
    "\n",
    "def acceptance(probability):\n",
    "    return min(1, probability)\n",
    "\n",
    "def evolve(value, sigma):\n",
    "    return value + (sigma/10)*np.random.random()-0.5\n",
    "\n",
    "def trial(particle, sigma, other_particles):\n",
    "    x_evolved = evolve(particle.x, sigma)\n",
    "    y_evolved = evolve(particle.y, sigma)\n",
    "    for particle in other_particles:\n",
    "        if acceptance(math.exp(-beta*u(sigma, particle.x, particle.y, x_evolved, y_evolved))) == 0:\n",
    "#             print(\"not accepted\")\n",
    "            return particle\n",
    "    particle.update(x_evolved, y_evolved)\n",
    "    return particle"
   ]
  },
  {
   "cell_type": "code",
   "execution_count": 9,
   "id": "01f22ae9",
   "metadata": {},
   "outputs": [],
   "source": [
    "n = 10\n",
    "sigma = 0.1\n",
    "particles = [Particle(np.random.random(), np.random.random()) for _ in range(n)]\n",
    "mu = Mu(particles, sigma)"
   ]
  },
  {
   "cell_type": "code",
   "execution_count": 10,
   "id": "f4c26f90",
   "metadata": {},
   "outputs": [
    {
     "name": "stdout",
     "output_type": "stream",
     "text": [
      "0\n",
      "9\n",
      "6\n",
      "3\n",
      "1\n",
      "3\n",
      "4\n",
      "0\n",
      "9\n",
      "8\n"
     ]
    }
   ],
   "source": [
    "for _ in range(10):\n",
    "    mu.evolve()"
   ]
  },
  {
   "cell_type": "code",
   "execution_count": 11,
   "id": "0e29299a",
   "metadata": {},
   "outputs": [
    {
     "data": {
      "text/plain": [
       "3.185162352646908"
      ]
     },
     "execution_count": 11,
     "metadata": {},
     "output_type": "execute_result"
    }
   ],
   "source": [
    "mu.msd()"
   ]
  },
  {
   "cell_type": "code",
   "execution_count": 1,
   "id": "dedf6213",
   "metadata": {},
   "outputs": [
    {
     "ename": "NameError",
     "evalue": "name 'plt' is not defined",
     "output_type": "error",
     "traceback": [
      "\u001b[0;31m---------------------------------------------------------------------------\u001b[0m",
      "\u001b[0;31mNameError\u001b[0m                                 Traceback (most recent call last)",
      "\u001b[0;32m<ipython-input-1-2bc5095384f5>\u001b[0m in \u001b[0;36m<module>\u001b[0;34m\u001b[0m\n\u001b[0;32m----> 1\u001b[0;31m \u001b[0mfig\u001b[0m \u001b[0;34m=\u001b[0m \u001b[0mplt\u001b[0m\u001b[0;34m.\u001b[0m\u001b[0mfigure\u001b[0m\u001b[0;34m(\u001b[0m\u001b[0mfigsize\u001b[0m\u001b[0;34m=\u001b[0m\u001b[0;34m(\u001b[0m\u001b[0;36m14.1421356\u001b[0m\u001b[0;34m/\u001b[0m\u001b[0;36m2\u001b[0m\u001b[0;34m,\u001b[0m \u001b[0;36m10\u001b[0m\u001b[0;34m/\u001b[0m\u001b[0;36m2\u001b[0m\u001b[0;34m)\u001b[0m\u001b[0;34m)\u001b[0m\u001b[0;34m\u001b[0m\u001b[0m\n\u001b[0m\u001b[1;32m      2\u001b[0m \u001b[0;34m\u001b[0m\u001b[0m\n\u001b[1;32m      3\u001b[0m \u001b[0max\u001b[0m \u001b[0;34m=\u001b[0m \u001b[0;34m[\u001b[0m\u001b[0;36m0\u001b[0m\u001b[0;34m]\u001b[0m\u001b[0;34m*\u001b[0m\u001b[0;36m2\u001b[0m\u001b[0;34m\u001b[0m\u001b[0m\n\u001b[1;32m      4\u001b[0m \u001b[0;31m# xlims = [(-6, 6), (-3.5, 3.5)]\u001b[0m\u001b[0;34m\u001b[0m\u001b[0;34m\u001b[0m\u001b[0m\n\u001b[1;32m      5\u001b[0m \u001b[0;34m\u001b[0m\u001b[0m\n",
      "\u001b[0;31mNameError\u001b[0m: name 'plt' is not defined"
     ]
    }
   ],
   "source": [
    "fig = plt.figure(figsize=(14.1421356/2, 10/2))\n",
    "\n",
    "ax = [0]*2\n",
    "# xlims = [(-6, 6), (-3.5, 3.5)]\n",
    "\n",
    "for i in range(1):\n",
    "    ax[i] = fig.add_subplot(1, 1, i+1)\n",
    "    for particle in mu.particles:\n",
    "        ax[i].scatter(particle.x, particle.y)\n",
    "    \n",
    "    ax[i].legend(loc='upper right',markerscale=4)\n",
    "#     ax[i].set_title(title)\n",
    "#     ax[i].set(xlabel=r\"$ k_b T/\\epsilon $\", ylabel=r\"$\\langle p \\rangle$\")"
   ]
  },
  {
   "cell_type": "code",
   "execution_count": null,
   "id": "97a061ce",
   "metadata": {},
   "outputs": [],
   "source": []
  }
 ],
 "metadata": {
  "kernelspec": {
   "display_name": "Python 3",
   "language": "python",
   "name": "python3"
  },
  "language_info": {
   "codemirror_mode": {
    "name": "ipython",
    "version": 3
   },
   "file_extension": ".py",
   "mimetype": "text/x-python",
   "name": "python",
   "nbconvert_exporter": "python",
   "pygments_lexer": "ipython3",
   "version": "3.7.0"
  }
 },
 "nbformat": 4,
 "nbformat_minor": 5
}
